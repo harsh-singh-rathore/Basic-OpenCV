{
 "cells": [
  {
   "cell_type": "code",
   "execution_count": 1,
   "metadata": {},
   "outputs": [],
   "source": [
    "import cv2\n",
    "import numpy as np"
   ]
  },
  {
   "cell_type": "code",
   "execution_count": 2,
   "metadata": {},
   "outputs": [],
   "source": [
    "# for taking in live video\n",
    "cap = cv2.VideoCapture(0)"
   ]
  },
  {
   "cell_type": "code",
   "execution_count": 3,
   "metadata": {},
   "outputs": [],
   "source": [
    "# is the camera open\n",
    "while (cap.isOpened()):\n",
    "    \n",
    "    # read the video frame from camera\n",
    "    ret, img = cap.read()\n",
    "    \n",
    "    # Converting the bgr to gray\n",
    "    gray = cv2.cvtColor(img, cv2.COLOR_BGR2GRAY)\n",
    "    \n",
    "    # applying the GaussianBlur\n",
    "    blur = cv2.GaussianBlur(gray, (5, 5), 100)\n",
    "    \n",
    "    # Getting the RegionOfInterest\n",
    "    blurROI = blur[200:400, 100:400]\n",
    "    \n",
    "    # Applying the threshold\n",
    "    ret, thresh1 = cv2.threshold(blurROI, 70, 255, cv2.THRESH_BINARY_INV + cv2.THRESH_OTSU)\n",
    "    \n",
    "    # getting the contour\n",
    "    contours, _ = cv2.findContours(thresh1, cv2.RETR_TREE, cv2.CHAIN_APPROX_NONE)\n",
    "    \n",
    "    # setting the max area to zero\n",
    "    max_area = 0\n",
    "    \n",
    "    # getting the contour of max area\n",
    "    for i in range(len(contours)):\n",
    "        \n",
    "        cnt = contours[i]\n",
    "        area = cv2.contourArea(cnt)\n",
    "        \n",
    "        if (area > max_area):\n",
    "            max_area = area\n",
    "            ci = i\n",
    "    \n",
    "    # setting cnt as the contour for max area\n",
    "    cnt = contours[ci]\n",
    "    \n",
    "    # getting the convex hull\n",
    "    hull = cv2.convexHull(cnt)\n",
    "\n",
    "    # getting the Rectangle for the ROI\n",
    "    cv2.rectangle(img, (200,100), (400,400), (0, 255, 0), 2)\n",
    "    \n",
    "    \n",
    "    # drawing the contours and the convex hull\n",
    "    cv2.drawContours(img[200:400, 100:400], cnt, -1, (0, 0, 255), 2)\n",
    "    cv2.drawContours(img[200:400, 100:400],[hull],0,(0,0,255),2)\n",
    "\n",
    "    cv2.drawContours(thresh1, hull, -1, (255, 255, 255), 2)\n",
    "    \n",
    "    # Showing the images \n",
    "    cv2.imshow('input', img)  # displaying the frames\n",
    "    cv2.imshow(\"threshold\", thresh1)\n",
    "\n",
    "\n",
    "    if cv2.waitKey(10) == 27:\n",
    "        break"
   ]
  },
  {
   "cell_type": "code",
   "execution_count": 5,
   "metadata": {},
   "outputs": [],
   "source": [
    "cv2.destroyAllWindows()"
   ]
  },
  {
   "cell_type": "code",
   "execution_count": null,
   "metadata": {},
   "outputs": [],
   "source": []
  }
 ],
 "metadata": {
  "kernelspec": {
   "display_name": "Python 3",
   "language": "python",
   "name": "python3"
  },
  "language_info": {
   "codemirror_mode": {
    "name": "ipython",
    "version": 3
   },
   "file_extension": ".py",
   "mimetype": "text/x-python",
   "name": "python",
   "nbconvert_exporter": "python",
   "pygments_lexer": "ipython3",
   "version": "3.7.5"
  }
 },
 "nbformat": 4,
 "nbformat_minor": 2
}
